{
 "cells": [
  {
   "cell_type": "markdown",
   "metadata": {},
   "source": [
    "VARIABLES NECESARIAS"
   ]
  },
  {
   "cell_type": "code",
   "execution_count": 7,
   "metadata": {},
   "outputs": [],
   "source": [
    "tierra= 149597870 #in kms.\n",
    "júpiter= 778547200 #in kms."
   ]
  },
  {
   "cell_type": "markdown",
   "metadata": {},
   "source": [
    "CALCULAR DISTANCIA"
   ]
  },
  {
   "cell_type": "code",
   "execution_count": 12,
   "metadata": {},
   "outputs": [
    {
     "name": "stdout",
     "output_type": "stream",
     "text": [
      "628949330 Kms\n",
      "390577533 millas\n"
     ]
    }
   ],
   "source": [
    "from math import ceil, floor\n",
    "distancia= tierra - júpiter\n",
    "print(abs(distancia), 'Kms')\n",
    "print(abs(ceil(distancia * 0.621)), 'millas')"
   ]
  }
 ],
 "metadata": {
  "interpreter": {
   "hash": "5bcdf1d39f57e361d778efcf656be610dd9cef6c265122768be9e2ed5aac9820"
  },
  "kernelspec": {
   "display_name": "Python 3.10.1 32-bit",
   "language": "python",
   "name": "python3"
  },
  "language_info": {
   "codemirror_mode": {
    "name": "ipython",
    "version": 3
   },
   "file_extension": ".py",
   "mimetype": "text/x-python",
   "name": "python",
   "nbconvert_exporter": "python",
   "pygments_lexer": "ipython3",
   "version": "3.10.1"
  },
  "orig_nbformat": 4
 },
 "nbformat": 4,
 "nbformat_minor": 2
}
