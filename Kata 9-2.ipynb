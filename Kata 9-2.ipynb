{
 "cells": [
  {
   "cell_type": "markdown",
   "metadata": {},
   "source": [
    "# Función con informe preciso de la misión\n",
    "Características:\n",
    "-Hora de prelanzamiento\n",
    "-Tiempo de vuelo\n",
    "-Destino\n",
    "-Tanque externo\n",
    "-Tanque interno\n"
   ]
  },
  {
   "cell_type": "code",
   "execution_count": 1,
   "metadata": {},
   "outputs": [
    {
     "name": "stdout",
     "output_type": "stream",
     "text": [
      "Mission characteristics:\n",
      "    Pre-Launch Time: 10 minutes\n",
      "    Flying Time: 24 hours\n",
      "    Destination: Moon \n",
      "    External Tank: 98 %\n",
      "    Internal Tank: 100 %\n",
      "    \n"
     ]
    }
   ],
   "source": [
    "def mission(preLaunch, flyingTime, destination, outterTank, innerTank):\n",
    "    return f\"\"\"Mission characteristics:\n",
    "    Pre-Launch Time: {preLaunch} minutes\n",
    "    Flying Time: {flyingTime} hours\n",
    "    Destination: {destination} \n",
    "    External Tank: {outterTank} %\n",
    "    Internal Tank: {innerTank} %\n",
    "    \"\"\" \n",
    "\n",
    "print(mission(10, 24, 'Moon', 98, 100))"
   ]
  },
  {
   "cell_type": "markdown",
   "metadata": {},
   "source": [
    "# Función más flexible\n",
    "Posibilidad de agregar datos diversos"
   ]
  },
  {
   "cell_type": "code",
   "execution_count": 2,
   "metadata": {},
   "outputs": [
    {
     "name": "stdout",
     "output_type": "stream",
     "text": [
      "Mission characteristics:\n",
      "    Destination: Moon\n",
      "    Estimated Total Travel Time: 125 minutes\n",
      "    Total Fuel: 198 ltrs.\n",
      "    \n"
     ]
    }
   ],
   "source": [
    "def mission(destination, *totalflyingTime, **fuelTanks):\n",
    "    return f\"\"\"Mission characteristics:\n",
    "    Destination: {destination}\n",
    "    Estimated Total Travel Time: {sum(totalflyingTime)} minutes\n",
    "    Total Fuel: {sum(fuelTanks.values())} ltrs.\n",
    "    \"\"\" \n",
    "\n",
    "print(mission('Moon', 10, 115, internal=100, external= 98))\n",
    "    \n"
   ]
  },
  {
   "cell_type": "markdown",
   "metadata": {},
   "source": [
    "# Nuevo informe con tanques separados"
   ]
  },
  {
   "cell_type": "code",
   "execution_count": 3,
   "metadata": {},
   "outputs": [
    {
     "name": "stdout",
     "output_type": "stream",
     "text": [
      "Mission characteristics:\n",
      "    Destination: Moon\n",
      "    Estimated Total Travel Time: 125 minutes\n",
      "    Total Fuel: 198 ltrs.\n",
      "    internal tank has 100 liters left\n",
      "external tank has 98 liters left\n",
      "\n"
     ]
    }
   ],
   "source": [
    "def mission(destination, *totalflyingTime, **fuelTanks):\n",
    "    report= f\"\"\"Mission characteristics:\n",
    "    Destination: {destination}\n",
    "    Estimated Total Travel Time: {sum(totalflyingTime)} minutes\n",
    "    Total Fuel: {sum(fuelTanks.values())} ltrs.\n",
    "    \"\"\"\n",
    "\n",
    "    for tanks, liters in fuelTanks.items():\n",
    "        report+= f'{tanks} tank has {liters} liters left\\n'\n",
    "    return report\n",
    "\n",
    "print(mission('Moon', 10, 115, internal=100, external= 98))\n"
   ]
  }
 ],
 "metadata": {
  "interpreter": {
   "hash": "5bcdf1d39f57e361d778efcf656be610dd9cef6c265122768be9e2ed5aac9820"
  },
  "kernelspec": {
   "display_name": "Python 3.10.1 32-bit",
   "language": "python",
   "name": "python3"
  },
  "language_info": {
   "codemirror_mode": {
    "name": "ipython",
    "version": 3
   },
   "file_extension": ".py",
   "mimetype": "text/x-python",
   "name": "python",
   "nbconvert_exporter": "python",
   "pygments_lexer": "ipython3",
   "version": "3.10.1"
  },
  "orig_nbformat": 4
 },
 "nbformat": 4,
 "nbformat_minor": 2
}
