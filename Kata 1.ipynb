{
 "cells": [
  {
   "cell_type": "markdown",
   "metadata": {},
   "source": [
    "# Programa para mostrar la fecha\n",
    "\n",
    "A petición del oficial superior, se crea un código capaz de mostrar la fecha. "
   ]
  },
  {
   "cell_type": "code",
   "execution_count": 5,
   "metadata": {},
   "outputs": [
    {
     "name": "stdout",
     "output_type": "stream",
     "text": [
      "Today´s date is: 2022-02-05\n"
     ]
    }
   ],
   "source": [
    "from datetime import date\n",
    "print('Today´s date is: ' + str(date.today()) )"
   ]
  },
  {
   "cell_type": "markdown",
   "metadata": {},
   "source": [
    "# Convertidor de unidades\n",
    "\n",
    "Se solicita un programa que indique a cuanto equivale la cantidad de parsecs en años luz."
   ]
  },
  {
   "cell_type": "code",
   "execution_count": 34,
   "metadata": {},
   "outputs": [
    {
     "name": "stdout",
     "output_type": "stream",
     "text": [
      "Lightyears equivalent: 32.6156\n"
     ]
    }
   ],
   "source": [
    "parsec= input()\n",
    "lightyears= 3.26156 * int(parsec)\n",
    "\n",
    "input('Insert the amount of parsecs: ')\n",
    "\n",
    "print('Lightyears equivalent: ' + str(lightyears))"
   ]
  }
 ],
 "metadata": {
  "interpreter": {
   "hash": "f3e3e72d09292574b74c6585d22d85458538c9d03162e31ddd28b40da1bae323"
  },
  "kernelspec": {
   "display_name": "Python 3.10.2 64-bit",
   "language": "python",
   "name": "python3"
  },
  "language_info": {
   "codemirror_mode": {
    "name": "ipython",
    "version": 3
   },
   "file_extension": ".py",
   "mimetype": "text/x-python",
   "name": "python",
   "nbconvert_exporter": "python",
   "pygments_lexer": "ipython3",
   "version": "3.10.2"
  },
  "orig_nbformat": 4
 },
 "nbformat": 4,
 "nbformat_minor": 2
}
