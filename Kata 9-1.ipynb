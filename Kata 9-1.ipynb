{
 "cells": [
  {
   "cell_type": "markdown",
   "metadata": {},
   "source": [
    "# Definir función para lectura y promedio de combustible"
   ]
  },
  {
   "cell_type": "code",
   "execution_count": 5,
   "metadata": {},
   "outputs": [],
   "source": [
    "def fuelTanks(tankOne, tankTwo, tankThree):\n",
    "    average= (tankOne + tankTwo + tankThree)/ 3\n",
    "    return f\"\"\"Fuel Percentage:\n",
    "    First tank: {tankOne}\n",
    "    Second tank: {tankTwo}\n",
    "    Third Tank: {tankThree}\n",
    "    Average: {average}\n",
    "    \"\"\""
   ]
  },
  {
   "cell_type": "markdown",
   "metadata": {},
   "source": [
    "# Generar reporte"
   ]
  },
  {
   "cell_type": "code",
   "execution_count": 6,
   "metadata": {},
   "outputs": [
    {
     "name": "stdout",
     "output_type": "stream",
     "text": [
      "Fuel Percentage:\n",
      "    First tank: 77\n",
      "    Second tank: 89\n",
      "    Third Tank: 69\n",
      "    Average: 78.33333333333333\n",
      "    \n"
     ]
    }
   ],
   "source": [
    "print(fuelTanks(77, 89, 69))"
   ]
  },
  {
   "cell_type": "markdown",
   "metadata": {},
   "source": [
    "# Separar promedio en una nueva función"
   ]
  },
  {
   "cell_type": "code",
   "execution_count": 9,
   "metadata": {},
   "outputs": [
    {
     "data": {
      "text/plain": [
       "78.33333333333333"
      ]
     },
     "execution_count": 9,
     "metadata": {},
     "output_type": "execute_result"
    }
   ],
   "source": [
    "def average(values):\n",
    "    total = sum(values)\n",
    "    fuelQuantity= len(values)\n",
    "    return total / fuelQuantity\n",
    "\n",
    "average([77, 89, 69])\n"
   ]
  },
  {
   "cell_type": "markdown",
   "metadata": {},
   "source": [
    "# Actualizar la función"
   ]
  },
  {
   "cell_type": "code",
   "execution_count": 10,
   "metadata": {},
   "outputs": [
    {
     "name": "stdout",
     "output_type": "stream",
     "text": [
      "Fuel Percentage:\n",
      "    First tank: 90\n",
      "    Second tank: 98\n",
      "    Third Tank: 88\n",
      "    Average: 92.0\n",
      "    \n"
     ]
    }
   ],
   "source": [
    "def fuelTanks(tankOne, tankTwo, tankThree):\n",
    "    return f\"\"\"Fuel Percentage:\n",
    "    First tank: {tankOne}\n",
    "    Second tank: {tankTwo}\n",
    "    Third Tank: {tankThree}\n",
    "    Average: {average([tankOne, tankTwo, tankThree])}\n",
    "    \"\"\"\n",
    "\n",
    "print(fuelTanks(90, 98, 88))"
   ]
  }
 ],
 "metadata": {
  "interpreter": {
   "hash": "5bcdf1d39f57e361d778efcf656be610dd9cef6c265122768be9e2ed5aac9820"
  },
  "kernelspec": {
   "display_name": "Python 3.10.1 32-bit",
   "language": "python",
   "name": "python3"
  },
  "language_info": {
   "codemirror_mode": {
    "name": "ipython",
    "version": 3
   },
   "file_extension": ".py",
   "mimetype": "text/x-python",
   "name": "python",
   "nbconvert_exporter": "python",
   "pygments_lexer": "ipython3",
   "version": "3.10.1"
  },
  "orig_nbformat": 4
 },
 "nbformat": 4,
 "nbformat_minor": 2
}
