{
 "cells": [
  {
   "cell_type": "markdown",
   "metadata": {},
   "source": [
    "# Crear diccionario"
   ]
  },
  {
   "cell_type": "code",
   "execution_count": 3,
   "metadata": {},
   "outputs": [],
   "source": [
    "planet= {'name': 'Mars', 'moons':2}"
   ]
  },
  {
   "cell_type": "markdown",
   "metadata": {},
   "source": [
    "# Muestra el nombre y el número de lunas"
   ]
  },
  {
   "cell_type": "code",
   "execution_count": 4,
   "metadata": {},
   "outputs": [
    {
     "name": "stdout",
     "output_type": "stream",
     "text": [
      "{'Mars'} {2}\n"
     ]
    }
   ],
   "source": [
    "print({planet['name']},{planet['moons']})"
   ]
  },
  {
   "cell_type": "markdown",
   "metadata": {},
   "source": [
    "# Agregar nuevo valor"
   ]
  },
  {
   "cell_type": "code",
   "execution_count": 11,
   "metadata": {},
   "outputs": [],
   "source": [
    "planet['circumference(km)']= {'polar': 6752, 'equatorial': 6792}"
   ]
  },
  {
   "cell_type": "markdown",
   "metadata": {},
   "source": [
    "# Mostrar planeta y circunferencia polar"
   ]
  },
  {
   "cell_type": "code",
   "execution_count": 14,
   "metadata": {},
   "outputs": [
    {
     "name": "stdout",
     "output_type": "stream",
     "text": [
      "{'Mars'} has {6752} km of polar circumference\n"
     ]
    }
   ],
   "source": [
    "print({planet['name']}, 'has', {planet['circumference(km)']['polar']},\n",
    "'km of polar circumference')"
   ]
  }
 ],
 "metadata": {
  "interpreter": {
   "hash": "5bcdf1d39f57e361d778efcf656be610dd9cef6c265122768be9e2ed5aac9820"
  },
  "kernelspec": {
   "display_name": "Python 3.10.1 32-bit",
   "language": "python",
   "name": "python3"
  },
  "language_info": {
   "codemirror_mode": {
    "name": "ipython",
    "version": 3
   },
   "file_extension": ".py",
   "mimetype": "text/x-python",
   "name": "python",
   "nbconvert_exporter": "python",
   "pygments_lexer": "ipython3",
   "version": "3.10.1"
  },
  "orig_nbformat": 4
 },
 "nbformat": 4,
 "nbformat_minor": 2
}
